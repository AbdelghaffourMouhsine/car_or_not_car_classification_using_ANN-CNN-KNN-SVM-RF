{
 "cells": [
  {
   "cell_type": "code",
   "execution_count": 3,
   "id": "d79d5b56",
   "metadata": {},
   "outputs": [
    {
     "name": "stdout",
     "output_type": "stream",
     "text": [
      "Collecting simple_image_download==0.4\n",
      "  Using cached simple_image_download-0.4-py3-none-any.whl (4.9 kB)\n",
      "Requirement already satisfied: requests in c:\\programdata\\anaconda3\\lib\\site-packages (from simple_image_download==0.4) (2.31.0)\n",
      "Collecting python-magic-bin==0.4.14 (from simple_image_download==0.4)\n",
      "  Using cached python_magic_bin-0.4.14-py2.py3-none-win_amd64.whl (409 kB)\n",
      "Collecting progressbar (from simple_image_download==0.4)\n",
      "  Using cached progressbar-2.5-py3-none-any.whl\n",
      "Requirement already satisfied: charset-normalizer<4,>=2 in c:\\programdata\\anaconda3\\lib\\site-packages (from requests->simple_image_download==0.4) (2.0.4)\n",
      "Requirement already satisfied: idna<4,>=2.5 in c:\\programdata\\anaconda3\\lib\\site-packages (from requests->simple_image_download==0.4) (3.3)\n",
      "Requirement already satisfied: urllib3<3,>=1.21.1 in c:\\programdata\\anaconda3\\lib\\site-packages (from requests->simple_image_download==0.4) (1.26.9)\n",
      "Requirement already satisfied: certifi>=2017.4.17 in c:\\programdata\\anaconda3\\lib\\site-packages (from requests->simple_image_download==0.4) (2021.10.8)\n",
      "Installing collected packages: python-magic-bin, progressbar, simple_image_download\n",
      "Successfully installed progressbar-2.5 python-magic-bin-0.4.14 simple_image_download-0.4\n"
     ]
    }
   ],
   "source": [
    "# !pip install simple_image_download==0.4"
   ]
  },
  {
   "cell_type": "code",
   "execution_count": 6,
   "id": "b92934bc",
   "metadata": {},
   "outputs": [],
   "source": [
    "from simple_image_download import simple_image_download as simp"
   ]
  },
  {
   "cell_type": "code",
   "execution_count": 7,
   "id": "ef8ac2f4",
   "metadata": {},
   "outputs": [],
   "source": [
    "response = simp.simple_image_download\n",
    "keywords = [\"car\",\"other object\"]"
   ]
  },
  {
   "cell_type": "code",
   "execution_count": 8,
   "id": "59a6d554",
   "metadata": {},
   "outputs": [
    {
     "name": "stderr",
     "output_type": "stream",
     "text": [
      "[========================================================================] 100%\n",
      "[========================================================================] 100%\n"
     ]
    }
   ],
   "source": [
    "for kw in keywords:\n",
    "    response().download(kw , 100)"
   ]
  },
  {
   "cell_type": "markdown",
   "id": "b334c8f9",
   "metadata": {},
   "source": [
    "## Étape 1 : Préparation des données"
   ]
  },
  {
   "cell_type": "code",
   "execution_count": 9,
   "id": "90f2c340",
   "metadata": {},
   "outputs": [
    {
     "name": "stdout",
     "output_type": "stream",
     "text": [
      "Found 149 images belonging to 2 classes.\n",
      "Found 40 images belonging to 2 classes.\n"
     ]
    }
   ],
   "source": [
    "import os\n",
    "from tensorflow.keras.preprocessing.image import ImageDataGenerator\n",
    "\n",
    "# Chemins des dossiers d'entraînement et de test\n",
    "train_dir = 'data/train'\n",
    "test_dir = 'data/test'\n",
    "\n",
    "# Création d'un générateur d'images\n",
    "batch_size = 32\n",
    "image_size = (150, 150)\n",
    "\n",
    "train_datagen = ImageDataGenerator(rescale=1./255)\n",
    "test_datagen = ImageDataGenerator(rescale=1./255)\n",
    "\n",
    "train_generator = train_datagen.flow_from_directory(\n",
    "        train_dir,\n",
    "        target_size=image_size,\n",
    "        batch_size=batch_size,\n",
    "        class_mode='binary')\n",
    "\n",
    "test_generator = test_datagen.flow_from_directory(\n",
    "        test_dir,\n",
    "        target_size=image_size,\n",
    "        batch_size=batch_size,\n",
    "        class_mode='binary')"
   ]
  },
  {
   "cell_type": "code",
   "execution_count": 19,
   "id": "1ddfbdd6",
   "metadata": {},
   "outputs": [
    {
     "data": {
      "text/plain": [
       "{'car': 0, 'undefined': 1}"
      ]
     },
     "execution_count": 19,
     "metadata": {},
     "output_type": "execute_result"
    }
   ],
   "source": [
    "train_generator.class_indices"
   ]
  },
  {
   "cell_type": "markdown",
   "id": "9b722cf6",
   "metadata": {},
   "source": [
    "## Étape 2 : Construction du modèle ANN"
   ]
  },
  {
   "cell_type": "code",
   "execution_count": 20,
   "id": "11b0173f",
   "metadata": {},
   "outputs": [
    {
     "name": "stdout",
     "output_type": "stream",
     "text": [
      "Epoch 1/10\n"
     ]
    },
    {
     "name": "stderr",
     "output_type": "stream",
     "text": [
      "C:\\ProgramData\\Anaconda3\\lib\\site-packages\\PIL\\Image.py:945: UserWarning: Palette images with Transparency expressed in bytes should be converted to RGBA images\n",
      "  warnings.warn(\n"
     ]
    },
    {
     "name": "stdout",
     "output_type": "stream",
     "text": [
      "5/5 [==============================] - 10s 2s/step - loss: 38.4140 - accuracy: 0.4497\n",
      "Epoch 2/10\n",
      "5/5 [==============================] - 7s 1s/step - loss: 18.5125 - accuracy: 0.5101\n",
      "Epoch 3/10\n",
      "5/5 [==============================] - 9s 2s/step - loss: 7.9820 - accuracy: 0.6376\n",
      "Epoch 4/10\n",
      "5/5 [==============================] - 8s 2s/step - loss: 6.6397 - accuracy: 0.6846\n",
      "Epoch 5/10\n",
      "5/5 [==============================] - 7s 1s/step - loss: 3.6013 - accuracy: 0.7517\n",
      "Epoch 6/10\n",
      "5/5 [==============================] - 8s 1s/step - loss: 3.9241 - accuracy: 0.8054\n",
      "Epoch 7/10\n",
      "5/5 [==============================] - 8s 2s/step - loss: 2.6130 - accuracy: 0.8255\n",
      "Epoch 8/10\n",
      "5/5 [==============================] - 8s 2s/step - loss: 1.9013 - accuracy: 0.8523\n",
      "Epoch 9/10\n",
      "5/5 [==============================] - 8s 1s/step - loss: 0.9863 - accuracy: 0.8926\n",
      "Epoch 10/10\n",
      "5/5 [==============================] - 8s 2s/step - loss: 0.4138 - accuracy: 0.9463\n"
     ]
    },
    {
     "data": {
      "text/plain": [
       "<keras.src.callbacks.History at 0x24203e26ca0>"
      ]
     },
     "execution_count": 20,
     "metadata": {},
     "output_type": "execute_result"
    }
   ],
   "source": [
    "from tensorflow.keras.models import Sequential\n",
    "from tensorflow.keras.layers import Flatten, Dense\n",
    "\n",
    "ann_model = Sequential([\n",
    "    Flatten(input_shape=(150, 150, 3)),\n",
    "    Dense(128, activation='relu'),\n",
    "    Dense(1, activation='sigmoid')\n",
    "])\n",
    "\n",
    "ann_model.compile(optimizer='adam',\n",
    "                  loss='binary_crossentropy',\n",
    "                  metrics=['accuracy'])\n",
    "\n",
    "# Entraînement du modèle\n",
    "ann_model.fit(train_generator, epochs=10)\n"
   ]
  },
  {
   "cell_type": "markdown",
   "id": "535797f5",
   "metadata": {},
   "source": [
    "## Étape 3 : Construction du modèle CNN"
   ]
  },
  {
   "cell_type": "code",
   "execution_count": 21,
   "id": "7de78944",
   "metadata": {},
   "outputs": [
    {
     "name": "stdout",
     "output_type": "stream",
     "text": [
      "Epoch 1/10\n",
      "5/5 [==============================] - 17s 3s/step - loss: 1.8625 - accuracy: 0.4631\n",
      "Epoch 2/10\n",
      "5/5 [==============================] - 14s 3s/step - loss: 0.5311 - accuracy: 0.8322\n",
      "Epoch 3/10\n",
      "5/5 [==============================] - 14s 3s/step - loss: 0.3434 - accuracy: 0.9128\n",
      "Epoch 4/10\n",
      "5/5 [==============================] - 14s 3s/step - loss: 0.1826 - accuracy: 0.9329\n",
      "Epoch 5/10\n",
      "5/5 [==============================] - 14s 3s/step - loss: 0.1086 - accuracy: 0.9664\n",
      "Epoch 6/10\n",
      "5/5 [==============================] - 14s 3s/step - loss: 0.0812 - accuracy: 0.9732\n",
      "Epoch 7/10\n",
      "5/5 [==============================] - 13s 3s/step - loss: 0.0642 - accuracy: 0.9866\n",
      "Epoch 8/10\n",
      "5/5 [==============================] - 15s 3s/step - loss: 0.0414 - accuracy: 0.9866\n",
      "Epoch 9/10\n",
      "5/5 [==============================] - 14s 2s/step - loss: 0.0371 - accuracy: 0.9933\n",
      "Epoch 10/10\n",
      "5/5 [==============================] - 13s 3s/step - loss: 0.0179 - accuracy: 0.9933\n"
     ]
    },
    {
     "data": {
      "text/plain": [
       "<keras.src.callbacks.History at 0x24203a883d0>"
      ]
     },
     "execution_count": 21,
     "metadata": {},
     "output_type": "execute_result"
    }
   ],
   "source": [
    "from tensorflow.keras.layers import Conv2D, MaxPooling2D\n",
    "\n",
    "cnn_model = Sequential([\n",
    "    Conv2D(32, (3,3), activation='relu', input_shape=(150, 150, 3)),\n",
    "    MaxPooling2D(2,2),\n",
    "    Conv2D(64, (3,3), activation='relu'),\n",
    "    MaxPooling2D(2,2),\n",
    "    Conv2D(128, (3,3), activation='relu'),\n",
    "    MaxPooling2D(2,2),\n",
    "    Flatten(),\n",
    "    Dense(512, activation='relu'),\n",
    "    Dense(1, activation='sigmoid')\n",
    "])\n",
    "\n",
    "cnn_model.compile(optimizer='adam',\n",
    "                  loss='binary_crossentropy',\n",
    "                  metrics=['accuracy'])\n",
    "\n",
    "# Entraînement du modèle\n",
    "cnn_model.fit(train_generator, epochs=10)\n"
   ]
  },
  {
   "cell_type": "markdown",
   "id": "f0fe3812",
   "metadata": {},
   "source": [
    "## Évaluation des modèles"
   ]
  },
  {
   "cell_type": "code",
   "execution_count": 38,
   "id": "92199d3a",
   "metadata": {},
   "outputs": [
    {
     "name": "stdout",
     "output_type": "stream",
     "text": [
      "2/2 [==============================] - 2s 80ms/step - loss: 0.1943 - accuracy: 0.9250\n",
      "ANN - Loss: 0.19425100088119507, Accuracy: 0.925000011920929\n",
      "2/2 [==============================] - 2s 154ms/step - loss: 0.0083 - accuracy: 1.0000\n",
      "CNN - Loss: 0.008318411186337471, Accuracy: 1.0\n"
     ]
    }
   ],
   "source": [
    "# Évaluation du modèle ANN\n",
    "ann_loss, ann_accuracy = ann_model.evaluate(test_generator)\n",
    "print(f'ANN - Loss: {ann_loss}, Accuracy: {ann_accuracy}')\n",
    "\n",
    "# Évaluation du modèle CNN\n",
    "cnn_loss, cnn_accuracy = cnn_model.evaluate(test_generator)\n",
    "print(f'CNN - Loss: {cnn_loss}, Accuracy: {cnn_accuracy}')\n"
   ]
  },
  {
   "cell_type": "markdown",
   "id": "9c8f67d1",
   "metadata": {},
   "source": [
    "## Saving models"
   ]
  },
  {
   "cell_type": "code",
   "execution_count": 45,
   "id": "b782cd66",
   "metadata": {},
   "outputs": [],
   "source": [
    "model_json_1 = ann_model.to_json()\n",
    "with open(\"ANN_model.json\",\"w\") as json_file:\n",
    "    json_file.write(model_json_1)\n",
    "    \n",
    "ann_model.save_weights(\"ANN_model_weights.h5\")\n",
    "\n",
    "\n",
    "model_json_2 = cnn_model.to_json()\n",
    "with open(\"CNN_model.json\",\"w\") as json_file:\n",
    "    json_file.write(model_json_2)\n",
    "    \n",
    "cnn_model.save_weights(\"CNN_model_weights.h5\")"
   ]
  },
  {
   "cell_type": "markdown",
   "id": "f7c2df95",
   "metadata": {},
   "source": [
    "## Loading model"
   ]
  },
  {
   "cell_type": "code",
   "execution_count": 60,
   "id": "74c39491",
   "metadata": {},
   "outputs": [],
   "source": [
    "from keras.models import model_from_json\n",
    "\n",
    "json_file = open(\"ANN_model.json\",\"r\")\n",
    "loaded_model_json = json_file.read()\n",
    "json_file.close()\n",
    "loaded_ann_model = model_from_json(loaded_model_json)\n",
    "loaded_ann_model.load_weights(\"ANN_model_weights.h5\")"
   ]
  },
  {
   "cell_type": "code",
   "execution_count": 47,
   "id": "2d7d23f2",
   "metadata": {
    "scrolled": true
   },
   "outputs": [
    {
     "ename": "ValueError",
     "evalue": "Layer count mismatch when loading weights from file. Model expected 2 layers, found 5 saved layers.",
     "output_type": "error",
     "traceback": [
      "\u001b[1;31m---------------------------------------------------------------------------\u001b[0m",
      "\u001b[1;31mValueError\u001b[0m                                Traceback (most recent call last)",
      "Input \u001b[1;32mIn [47]\u001b[0m, in \u001b[0;36m<cell line: 5>\u001b[1;34m()\u001b[0m\n\u001b[0;32m      3\u001b[0m json_file\u001b[38;5;241m.\u001b[39mclose()\n\u001b[0;32m      4\u001b[0m loaded_cnn_model \u001b[38;5;241m=\u001b[39m model_from_json(loaded_model_json)\n\u001b[1;32m----> 5\u001b[0m \u001b[43mloaded_cnn_model\u001b[49m\u001b[38;5;241;43m.\u001b[39;49m\u001b[43mload_weights\u001b[49m\u001b[43m(\u001b[49m\u001b[38;5;124;43m\"\u001b[39;49m\u001b[38;5;124;43mCNN_model_weights.h5\u001b[39;49m\u001b[38;5;124;43m\"\u001b[39;49m\u001b[43m)\u001b[49m\n",
      "File \u001b[1;32m~\\AppData\\Roaming\\Python\\Python39\\site-packages\\keras\\src\\utils\\traceback_utils.py:70\u001b[0m, in \u001b[0;36mfilter_traceback.<locals>.error_handler\u001b[1;34m(*args, **kwargs)\u001b[0m\n\u001b[0;32m     67\u001b[0m     filtered_tb \u001b[38;5;241m=\u001b[39m _process_traceback_frames(e\u001b[38;5;241m.\u001b[39m__traceback__)\n\u001b[0;32m     68\u001b[0m     \u001b[38;5;66;03m# To get the full stack trace, call:\u001b[39;00m\n\u001b[0;32m     69\u001b[0m     \u001b[38;5;66;03m# `tf.debugging.disable_traceback_filtering()`\u001b[39;00m\n\u001b[1;32m---> 70\u001b[0m     \u001b[38;5;28;01mraise\u001b[39;00m e\u001b[38;5;241m.\u001b[39mwith_traceback(filtered_tb) \u001b[38;5;28;01mfrom\u001b[39;00m \u001b[38;5;28mNone\u001b[39m\n\u001b[0;32m     71\u001b[0m \u001b[38;5;28;01mfinally\u001b[39;00m:\n\u001b[0;32m     72\u001b[0m     \u001b[38;5;28;01mdel\u001b[39;00m filtered_tb\n",
      "File \u001b[1;32m~\\AppData\\Roaming\\Python\\Python39\\site-packages\\keras\\src\\saving\\legacy\\hdf5_format.py:816\u001b[0m, in \u001b[0;36mload_weights_from_hdf5_group\u001b[1;34m(f, model)\u001b[0m\n\u001b[0;32m    814\u001b[0m layer_names \u001b[38;5;241m=\u001b[39m filtered_layer_names\n\u001b[0;32m    815\u001b[0m \u001b[38;5;28;01mif\u001b[39;00m \u001b[38;5;28mlen\u001b[39m(layer_names) \u001b[38;5;241m!=\u001b[39m \u001b[38;5;28mlen\u001b[39m(filtered_layers):\n\u001b[1;32m--> 816\u001b[0m     \u001b[38;5;28;01mraise\u001b[39;00m \u001b[38;5;167;01mValueError\u001b[39;00m(\n\u001b[0;32m    817\u001b[0m         \u001b[38;5;124m\"\u001b[39m\u001b[38;5;124mLayer count mismatch when loading weights from file. \u001b[39m\u001b[38;5;124m\"\u001b[39m\n\u001b[0;32m    818\u001b[0m         \u001b[38;5;124mf\u001b[39m\u001b[38;5;124m\"\u001b[39m\u001b[38;5;124mModel expected \u001b[39m\u001b[38;5;132;01m{\u001b[39;00m\u001b[38;5;28mlen\u001b[39m(filtered_layers)\u001b[38;5;132;01m}\u001b[39;00m\u001b[38;5;124m layers, found \u001b[39m\u001b[38;5;124m\"\u001b[39m\n\u001b[0;32m    819\u001b[0m         \u001b[38;5;124mf\u001b[39m\u001b[38;5;124m\"\u001b[39m\u001b[38;5;132;01m{\u001b[39;00m\u001b[38;5;28mlen\u001b[39m(layer_names)\u001b[38;5;132;01m}\u001b[39;00m\u001b[38;5;124m saved layers.\u001b[39m\u001b[38;5;124m\"\u001b[39m\n\u001b[0;32m    820\u001b[0m     )\n\u001b[0;32m    822\u001b[0m \u001b[38;5;66;03m# We batch weight value assignments in a single backend call\u001b[39;00m\n\u001b[0;32m    823\u001b[0m \u001b[38;5;66;03m# which provides a speedup in TensorFlow.\u001b[39;00m\n\u001b[0;32m    824\u001b[0m weight_value_tuples \u001b[38;5;241m=\u001b[39m []\n",
      "\u001b[1;31mValueError\u001b[0m: Layer count mismatch when loading weights from file. Model expected 2 layers, found 5 saved layers."
     ]
    }
   ],
   "source": [
    "json_file = open(\"CNN_model.json\",\"r\")\n",
    "loaded_cnn_model_json = json_file.read()\n",
    "json_file.close()\n",
    "loaded_cnn_model = model_from_json(loaded_model_json)\n",
    "loaded_cnn_model.load_weights(\"CNN_model_weights.h5\")"
   ]
  },
  {
   "cell_type": "markdown",
   "id": "f8739e90",
   "metadata": {},
   "source": [
    "## test "
   ]
  },
  {
   "cell_type": "code",
   "execution_count": 61,
   "id": "4858c0f1",
   "metadata": {},
   "outputs": [
    {
     "name": "stdout",
     "output_type": "stream",
     "text": [
      "WARNING:tensorflow:5 out of the last 10 calls to <function Model.make_predict_function.<locals>.predict_function at 0x000002421C5CFF70> triggered tf.function retracing. Tracing is expensive and the excessive number of tracings could be due to (1) creating @tf.function repeatedly in a loop, (2) passing tensors with different shapes, (3) passing Python objects instead of tensors. For (1), please define your @tf.function outside of the loop. For (2), @tf.function has reduce_retracing=True option that can avoid unnecessary retracing. For (3), please refer to https://www.tensorflow.org/guide/function#controlling_retracing and https://www.tensorflow.org/api_docs/python/tf/function for  more details.\n",
      "1/1 [==============================] - 0s 84ms/step\n",
      "C'est une voiture\n"
     ]
    },
    {
     "data": {
      "image/png": "[encoded data removed]",
      "text/plain": [
       "<Figure size 432x288 with 1 Axes>"
      ]
     },
     "metadata": {
      "needs_background": "light"
     },
     "output_type": "display_data"
    }
   ],
   "source": [
    "import cv2\n",
    "import numpy as np\n",
    "import matplotlib.pyplot as plt\n",
    "\n",
    "# Charger l'image à tester\n",
    "image_path = 'data/test/car/car_80.png'\n",
    "image = cv2.imread(image_path)\n",
    "image = cv2.cvtColor(image, cv2.COLOR_BGR2RGB)  # Convertir en format RGB\n",
    "plt.imshow(image)\n",
    "# Redimensionner l'image\n",
    "image = cv2.resize(image, (150, 150))\n",
    "\n",
    "# Normaliser les valeurs des pixels\n",
    "image = image / 255.0\n",
    "\n",
    "# Ajouter une dimension pour correspondre à la forme attendue par le modèle (batch_size, height, width, channels)\n",
    "image = np.expand_dims(image, axis=0)\n",
    "\n",
    "# Utiliser le modèle ANN (par exemple)\n",
    "prediction = loaded_ann_model.predict(image)\n",
    "\n",
    "# La prédiction sera un score entre 0 et 1, vous pouvez décider d'un seuil pour considérer si c'est une voiture ou non\n",
    "\n",
    "seuil = 0.5\n",
    "if prediction < seuil:\n",
    "    print(\"C'est une voiture\")\n",
    "else:\n",
    "    print(\"Ce n'est pas une voiture\")\n"
   ]
  },
  {
   "cell_type": "code",
   "execution_count": 62,
   "id": "f26a7035",
   "metadata": {},
   "outputs": [
    {
     "data": {
      "text/plain": [
       "(1, 150, 150, 3)"
      ]
     },
     "execution_count": 62,
     "metadata": {},
     "output_type": "execute_result"
    }
   ],
   "source": [
    "image.shape"
   ]
  },
  {
   "cell_type": "code",
   "execution_count": 63,
   "id": "805ce9f1",
   "metadata": {},
   "outputs": [
    {
     "data": {
      "text/plain": [
       "array([[1.7881807e-07]], dtype=float32)"
      ]
     },
     "execution_count": 63,
     "metadata": {},
     "output_type": "execute_result"
    }
   ],
   "source": [
    "prediction"
   ]
  },
  {
   "cell_type": "code",
   "execution_count": null,
   "id": "7d8e9512",
   "metadata": {},
   "outputs": [],
   "source": []
  }
 ],
 "metadata": {
  "kernelspec": {
   "display_name": "Python 3 (ipykernel)",
   "language": "python",
   "name": "python3"
  },
  "language_info": {
   "codemirror_mode": {
    "name": "ipython",
    "version": 3
   },
   "file_extension": ".py",
   "mimetype": "text/x-python",
   "name": "python",
   "nbconvert_exporter": "python",
   "pygments_lexer": "ipython3",
   "version": "3.9.12"
  },
  "varInspector": {
   "cols": {
    "lenName": 16,
    "lenType": 16,
    "lenVar": 40
   },
   "kernels_config": {
    "python": {
     "delete_cmd_postfix": "",
     "delete_cmd_prefix": "del ",
     "library": "var_list.py",
     "varRefreshCmd": "print(var_dic_list())"
    },
    "r": {
     "delete_cmd_postfix": ") ",
     "delete_cmd_prefix": "rm(",
     "library": "var_list.r",
     "varRefreshCmd": "cat(var_dic_list()) "
    }
   },
   "types_to_exclude": [
    "module",
    "function",
    "builtin_function_or_method",
    "instance",
    "_Feature"
   ],
   "window_display": false
  }
 },
 "nbformat": 4,
 "nbformat_minor": 5
}
